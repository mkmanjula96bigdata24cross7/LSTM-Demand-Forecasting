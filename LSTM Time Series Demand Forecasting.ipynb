{
 "cells": [
  {
   "cell_type": "code",
   "execution_count": 1,
   "metadata": {},
   "outputs": [],
   "source": [
    "import numpy as np\n",
    "import matplotlib.pyplot as plt\n",
    "import pandas as pd\n",
    "pd.set_option('display.float_format', lambda x: '%.4f' % x)\n",
    "import seaborn as sns\n",
    "sns.set_context(\"paper\", font_scale=1.3)\n",
    "sns.set_style('white')\n",
    "import warnings\n",
    "warnings.filterwarnings('ignore')\n",
    "from time import time\n",
    "import matplotlib.ticker as tkr\n",
    "from scipy import stats\n",
    "from statsmodels.tsa.stattools import adfuller\n",
    "from sklearn import preprocessing\n",
    "from statsmodels.tsa.stattools import pacf\n",
    "%matplotlib inline\n",
    "\n",
    "import math\n",
    "import keras\n",
    "from keras.models import Sequential\n",
    "from keras.layers import Dense\n",
    "from keras.layers import LSTM\n",
    "from keras.layers import Dropout\n",
    "from keras.layers import *\n",
    "from sklearn.preprocessing import MinMaxScaler\n",
    "from sklearn.metrics import mean_squared_error\n",
    "from sklearn.metrics import mean_absolute_error\n",
    "from keras.callbacks import EarlyStopping"
   ]
  },
  {
   "cell_type": "code",
   "execution_count": 2,
   "metadata": {},
   "outputs": [],
   "source": [
    "df= pd.read_csv(\"D:\\Manjula\\Staples Pricing ADS\\Staples Bucketing\\Staples_df_rol_item_with_affluence.csv\")"
   ]
  },
  {
   "cell_type": "code",
   "execution_count": 3,
   "metadata": {},
   "outputs": [],
   "source": [
    "rice_df = df[df[\"item_no\"]==100096089]\n",
    "rice_df_19 = rice_df[pd.to_datetime(rice_df[\"date\"])<'2020-01-01']"
   ]
  },
  {
   "cell_type": "code",
   "execution_count": 4,
   "metadata": {},
   "outputs": [],
   "source": [
    "dataset = rice_df_19.bill_qty.values #numpy.ndarray\n",
    "dataset = dataset.astype('float32')"
   ]
  },
  {
   "cell_type": "code",
   "execution_count": 12,
   "metadata": {},
   "outputs": [],
   "source": [
    "dataset = dataset.reshape(-1,1)"
   ]
  },
  {
   "cell_type": "code",
   "execution_count": 14,
   "metadata": {},
   "outputs": [],
   "source": [
    "scaler = MinMaxScaler(feature_range=(0,1))"
   ]
  },
  {
   "cell_type": "code",
   "execution_count": 17,
   "metadata": {},
   "outputs": [],
   "source": [
    "dataset = scaler.fit_transform(dataset)"
   ]
  },
  {
   "cell_type": "code",
   "execution_count": 20,
   "metadata": {},
   "outputs": [
    {
     "name": "stdout",
     "output_type": "stream",
     "text": [
      "(306, 1)\n",
      "244\n",
      "62\n"
     ]
    }
   ],
   "source": [
    "train_size = int(len(dataset) * 0.80)\n",
    "test_size = len(dataset) - train_size\n",
    "print(dataset.shape)\n",
    "print(train_size)\n",
    "print(test_size)"
   ]
  },
  {
   "cell_type": "code",
   "execution_count": 21,
   "metadata": {},
   "outputs": [],
   "source": [
    "train, test = dataset[0:train_size,:], dataset[train_size:len(dataset),:]"
   ]
  },
  {
   "cell_type": "code",
   "execution_count": 86,
   "metadata": {},
   "outputs": [],
   "source": [
    "def create_dataset(dataset, look_back=1):\n",
    "    X, Y = [], []\n",
    "    for i in range(len(dataset)-look_back-1):\n",
    "        a = dataset[i:(i+look_back), 0]\n",
    "        X.append(a)\n",
    "        Y.append(dataset[i + look_back, 0])\n",
    "    return np.array(X), np.array(Y)"
   ]
  },
  {
   "cell_type": "code",
   "execution_count": 94,
   "metadata": {},
   "outputs": [],
   "source": [
    "# reshape into X=t and Y=t+1\n",
    "look_back = 40\n",
    "X_train, Y_train = create_dataset(train, look_back)\n",
    "X_test, Y_test = create_dataset(test, look_back)"
   ]
  },
  {
   "cell_type": "code",
   "execution_count": 95,
   "metadata": {},
   "outputs": [
    {
     "name": "stdout",
     "output_type": "stream",
     "text": [
      "(203, 40)\n",
      "(21, 40)\n"
     ]
    }
   ],
   "source": [
    "print(X_train.shape)\n",
    "print(X_test.shape)"
   ]
  },
  {
   "cell_type": "code",
   "execution_count": 96,
   "metadata": {},
   "outputs": [],
   "source": [
    "# reshape input to be [samples, time steps, features]\n",
    "X_train = np.reshape(X_train, (X_train.shape[0], 1, X_train.shape[1]))\n",
    "X_test = np.reshape(X_test, (X_test.shape[0], 1, X_test.shape[1]))"
   ]
  },
  {
   "cell_type": "code",
   "execution_count": 97,
   "metadata": {},
   "outputs": [
    {
     "data": {
      "text/plain": [
       "(203, 1, 40)"
      ]
     },
     "execution_count": 97,
     "metadata": {},
     "output_type": "execute_result"
    }
   ],
   "source": [
    "X_train.shape"
   ]
  },
  {
   "cell_type": "code",
   "execution_count": 98,
   "metadata": {},
   "outputs": [
    {
     "name": "stdout",
     "output_type": "stream",
     "text": [
      "Epoch 1/30\n",
      "3/3 [==============================] - 0s 149ms/step - loss: 0.0527 - val_loss: 0.0126\n",
      "Epoch 2/30\n",
      "3/3 [==============================] - 0s 13ms/step - loss: 0.0341 - val_loss: 0.0063\n",
      "Epoch 3/30\n",
      "3/3 [==============================] - 0s 17ms/step - loss: 0.0253 - val_loss: 0.0055\n",
      "Epoch 4/30\n",
      "3/3 [==============================] - 0s 16ms/step - loss: 0.0239 - val_loss: 0.0073\n",
      "Epoch 5/30\n",
      "3/3 [==============================] - 0s 16ms/step - loss: 0.0251 - val_loss: 0.0082\n",
      "Epoch 6/30\n",
      "3/3 [==============================] - 0s 104ms/step - loss: 0.0250 - val_loss: 0.0074\n",
      "Epoch 7/30\n",
      "3/3 [==============================] - 0s 13ms/step - loss: 0.0231 - val_loss: 0.0058\n",
      "Epoch 8/30\n",
      "3/3 [==============================] - 0s 17ms/step - loss: 0.0210 - val_loss: 0.0044\n",
      "Epoch 9/30\n",
      "3/3 [==============================] - 0s 16ms/step - loss: 0.0196 - val_loss: 0.0037\n",
      "Epoch 10/30\n",
      "3/3 [==============================] - 0s 18ms/step - loss: 0.0190 - val_loss: 0.0035\n",
      "Epoch 11/30\n",
      "3/3 [==============================] - 0s 15ms/step - loss: 0.0185 - val_loss: 0.0034\n",
      "Epoch 12/30\n",
      "3/3 [==============================] - 0s 17ms/step - loss: 0.0178 - val_loss: 0.0031\n",
      "Epoch 13/30\n",
      "3/3 [==============================] - 0s 14ms/step - loss: 0.0169 - val_loss: 0.0029\n",
      "Epoch 14/30\n",
      "3/3 [==============================] - 0s 14ms/step - loss: 0.0161 - val_loss: 0.0028\n",
      "Epoch 15/30\n",
      "3/3 [==============================] - 0s 16ms/step - loss: 0.0154 - val_loss: 0.0027\n",
      "Epoch 16/30\n",
      "3/3 [==============================] - 0s 14ms/step - loss: 0.0149 - val_loss: 0.0027\n",
      "Epoch 17/30\n",
      "3/3 [==============================] - 0s 16ms/step - loss: 0.0144 - val_loss: 0.0025\n",
      "Epoch 18/30\n",
      "3/3 [==============================] - 0s 18ms/step - loss: 0.0139 - val_loss: 0.0024\n",
      "Epoch 19/30\n",
      "3/3 [==============================] - 0s 18ms/step - loss: 0.0134 - val_loss: 0.0023\n",
      "Epoch 20/30\n",
      "3/3 [==============================] - 0s 16ms/step - loss: 0.0130 - val_loss: 0.0023\n",
      "Epoch 21/30\n",
      "3/3 [==============================] - 0s 14ms/step - loss: 0.0126 - val_loss: 0.0023\n",
      "Epoch 22/30\n",
      "3/3 [==============================] - 0s 14ms/step - loss: 0.0123 - val_loss: 0.0023\n",
      "Epoch 23/30\n",
      "3/3 [==============================] - 0s 15ms/step - loss: 0.0120 - val_loss: 0.0023\n",
      "Epoch 24/30\n",
      "3/3 [==============================] - 0s 16ms/step - loss: 0.0118 - val_loss: 0.0023\n",
      "Epoch 25/30\n",
      "3/3 [==============================] - 0s 15ms/step - loss: 0.0116 - val_loss: 0.0023\n",
      "Epoch 26/30\n",
      "3/3 [==============================] - 0s 14ms/step - loss: 0.0114 - val_loss: 0.0023\n",
      "Epoch 27/30\n",
      "3/3 [==============================] - 0s 13ms/step - loss: 0.0112 - val_loss: 0.0024\n",
      "Epoch 28/30\n",
      "3/3 [==============================] - 0s 15ms/step - loss: 0.0111 - val_loss: 0.0024\n",
      "Epoch 29/30\n",
      "3/3 [==============================] - 0s 14ms/step - loss: 0.0109 - val_loss: 0.0024\n",
      "Epoch 30/30\n",
      "3/3 [==============================] - 0s 17ms/step - loss: 0.0108 - val_loss: 0.0025\n",
      "Model: \"sequential_4\"\n",
      "_________________________________________________________________\n",
      "Layer (type)                 Output Shape              Param #   \n",
      "=================================================================\n",
      "lstm_4 (LSTM)                (None, 64)                26880     \n",
      "_________________________________________________________________\n",
      "dense_4 (Dense)              (None, 1)                 65        \n",
      "=================================================================\n",
      "Total params: 26,945\n",
      "Trainable params: 26,945\n",
      "Non-trainable params: 0\n",
      "_________________________________________________________________\n"
     ]
    }
   ],
   "source": [
    "model = Sequential()\n",
    "model.add(LSTM(64, input_shape=(X_train.shape[1], X_train.shape[2])))\n",
    "# model.add(Dropout(0.2))\n",
    "model.add(Dense(1))\n",
    "model.compile(loss='mean_squared_error', optimizer='adam')\n",
    "\n",
    "history = model.fit(X_train, Y_train, epochs=30, batch_size=70, validation_data=(X_test, Y_test), \n",
    "                    callbacks=[EarlyStopping(monitor='val_loss', patience=10)], verbose=1, shuffle=False)\n",
    "\n",
    "# Training Phase\n",
    "model.summary()"
   ]
  },
  {
   "cell_type": "code",
   "execution_count": 99,
   "metadata": {},
   "outputs": [
    {
     "name": "stdout",
     "output_type": "stream",
     "text": [
      "Train Mean Absolute Error: 75.24982839077713\n",
      "Train Root Mean Squared Error: 111.90458973782344\n",
      "Test Mean Absolute Error: 48.6091144994965\n",
      "Test Root Mean Squared Error: 53.46021616026567\n"
     ]
    }
   ],
   "source": [
    "# make predictions\n",
    "train_predict = model.predict(X_train)\n",
    "test_predict = model.predict(X_test)\n",
    "# invert predictions\n",
    "train_predict = scaler.inverse_transform(train_predict)\n",
    "Y_train = scaler.inverse_transform([Y_train])\n",
    "test_predict = scaler.inverse_transform(test_predict)\n",
    "Y_test = scaler.inverse_transform([Y_test])\n",
    "\n",
    "print('Train Mean Absolute Error:', mean_absolute_error(Y_train[0], train_predict[:,0]))\n",
    "print('Train Root Mean Squared Error:',np.sqrt(mean_squared_error(Y_train[0], train_predict[:,0])))\n",
    "print('Test Mean Absolute Error:', mean_absolute_error(Y_test[0], test_predict[:,0]))\n",
    "print('Test Root Mean Squared Error:',np.sqrt(mean_squared_error(Y_test[0], test_predict[:,0])))"
   ]
  },
  {
   "cell_type": "code",
   "execution_count": 100,
   "metadata": {},
   "outputs": [
    {
     "name": "stdout",
     "output_type": "stream",
     "text": [
      "Predicting --> 21  data points\n"
     ]
    },
    {
     "data": {
      "image/png": "[encoded data removed]",
      "text/plain": [
       "<Figure size 576x288 with 1 Axes>"
      ]
     },
     "metadata": {
      "needs_background": "light"
     },
     "output_type": "display_data"
    }
   ],
   "source": [
    "n = X_test.shape[0]\n",
    "print(\"Predicting -->\", n,\" data points\")\n",
    "aa=[x for x in range(n)]\n",
    "plt.figure(figsize=(8,4))\n",
    "plt.plot(aa, Y_test[0][:n], marker='.', label=\"actual\")\n",
    "plt.plot(aa, test_predict[:,0][:n], 'r', label=\"prediction\")\n",
    "# plt.tick_params(left=False, labelleft=True) #remove ticks\n",
    "plt.tight_layout()\n",
    "sns.despine(top=True)\n",
    "plt.subplots_adjust(left=0.07)\n",
    "plt.ylabel('bill_qty', size=15)\n",
    "plt.xlabel('Time step', size=15)\n",
    "plt.legend(fontsize=15)\n",
    "plt.show();"
   ]
  },
  {
   "cell_type": "code",
   "execution_count": null,
   "metadata": {},
   "outputs": [],
   "source": []
  }
 ],
 "metadata": {
  "kernelspec": {
   "display_name": "Python 3",
   "language": "python",
   "name": "python3"
  },
  "language_info": {
   "codemirror_mode": {
    "name": "ipython",
    "version": 3
   },
   "file_extension": ".py",
   "mimetype": "text/x-python",
   "name": "python",
   "nbconvert_exporter": "python",
   "pygments_lexer": "ipython3",
   "version": "3.7.6"
  }
 },
 "nbformat": 4,
 "nbformat_minor": 4
}
